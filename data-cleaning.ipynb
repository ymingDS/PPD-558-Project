{
 "cells": [
  {
   "cell_type": "code",
   "execution_count": 48,
   "metadata": {},
   "outputs": [
    {
     "name": "stderr",
     "output_type": "stream",
     "text": [
      "/var/folders/fv/wsjrgh1s06bcxlh0x0cbtzz80000gn/T/ipykernel_91903/368535775.py:2: DtypeWarning: Columns (32,33,35,36,37,38,39,42,44,45,46,47,70,72) have mixed types. Specify dtype option on import or set low_memory=False.\n",
      "  df = pd.read_csv('data/10162024_INSIGHT(opm).csv')\n"
     ]
    }
   ],
   "source": [
    "import pandas as pd\n",
    "df = pd.read_csv('data/10162024_INSIGHT(opm).csv')"
   ]
  },
  {
   "cell_type": "code",
   "execution_count": 49,
   "metadata": {},
   "outputs": [
    {
     "name": "stdout",
     "output_type": "stream",
     "text": [
      "['department', 'bureau', 'date_open', 'qdate', 'year', 'agysub', 'pay_plan', 'job_series_str', 'job_series_num', 'job_series_title', 'grade', 'grade_highest', 'grade_lowest', 'usajobs_control_number', 'vacancy_job_title', 'vacancy_announcement_types', 'announcement_type', 'announcement_locations', 'announcement_open_date', 'announcement_close_date', 'announcement_open_date_fy', 'announcement_close_date_fy', 'application_limit_set', 'application_limit', 'assessment_used', 'off_the_shelf_assessment', 'assessment_questionnaire_used', 'other_assessment_type_used', 'selection_dummy', 'selection_num', 'selection_sep_announ_dummy', 'source', 'appointment_type', 'appointment_type_list', 'additional_manual_assessment_use', 'manual_assessment_method_details', 'applicant_eligibility_public', 'applicant_eligibility_internal', 'applicant_eligibility_status', 'applicant_eligibility_usajobs_in', 'assessment_groupings', 'appointment_type_groupings', 'vacancy_eligibility_list', 'total_applications', 'appointing_authority_list', 'service_type', 'scoring_option', 'announcement_number', 'opm_total_appli', 'opm_total_veteran', 'opm_total_elig', 'opm_total_complete', 'opm_total_selectees', 'opm_female', 'opm_male', 'opm_unspegender', 'opm_twomoreraces', 'opem_ame_ind_or_alask', 'opm_asian', 'opm_black', 'opm_latino', 'opm_hawaiian_pacific', 'opm_unsperace', 'opm_white', 'permanent', 'opendate', 'closedate', 'posting_length', 'health', 'stem', 'vancancy_pay_plan_series', 'rfeb', 'mfeb', 'rfeb_code', 'mfeb_code', 'unique_jobs', 'state', 'state_fips', 'location_flexibility', 'remote_work_available', 'telework_available', 'open_to_public', 'p1_richardson', 'p2_richardson', 'richardson', 'p1_clinton', 'p2_clinton', 'clinton', 'chen_clinton1', 'chen_clinton2', 'chen_bush1', 'chen_bush2', 'chen_obama', 'chen_mean', 'p1_selin_decision', 'p2_selin_decision', 'selin_decision', 'p1_selin_political', 'p2_selin_political', 'selin_political', 'bls_occ_totalemp', 'bls_occ_avg_empprse', 'bls_occ_avg_jobs1000', 'bls_occ_avg_locquot', 'bls_occ_mean_hmean', 'bls_occ_mean_amean', 'occ_cluster', 'occ_cluster_code']\n"
     ]
    }
   ],
   "source": [
    "# original list of variables\n",
    "print(df.columns.tolist())"
   ]
  },
  {
   "cell_type": "markdown",
   "metadata": {},
   "source": [
    "### Construct Dependent Variable: Posting_Length\n",
    "posting_length: vacancy interval of an occupation"
   ]
  },
  {
   "cell_type": "code",
   "execution_count": 50,
   "metadata": {},
   "outputs": [
    {
     "data": {
      "image/png": "[encoded data removed]",
      "text/plain": [
       "<Figure size 1000x600 with 1 Axes>"
      ]
     },
     "metadata": {},
     "output_type": "display_data"
    }
   ],
   "source": [
    "import matplotlib.pyplot as plt\n",
    "import numpy as np\n",
    "\n",
    "# Generate a plot for the vacancy_time_interval distribution\n",
    "plt.figure(figsize=(10, 6))\n",
    "plt.hist(df['posting_length'].dropna(), bins=100, edgecolor='black')\n",
    "plt.title('Distribution of Vacancy Time Interval')\n",
    "plt.xlabel('Vacancy Time Interval (Days)')\n",
    "plt.ylabel('Frequency')\n",
    "\n",
    "# Set x-axis ticks to be spaced by 50 days\n",
    "max_value = df['posting_length'].max()  # Get the maximum value in the data\n",
    "plt.xticks(np.arange(0, max_value + 1, 50))  # Generate ticks from 0 to the max value, with a step of 50\n",
    "\n",
    "plt.grid(True)\n",
    "plt.show()\n"
   ]
  },
  {
   "cell_type": "markdown",
   "metadata": {},
   "source": [
    "### Variables Selection"
   ]
  },
  {
   "cell_type": "code",
   "execution_count": 51,
   "metadata": {},
   "outputs": [
    {
     "name": "stdout",
     "output_type": "stream",
     "text": [
      "(2329659, 19)\n"
     ]
    }
   ],
   "source": [
    "# List of columns to keep\n",
    "columns_to_keep = [\n",
    "    'posting_length', # the number of days the job posting was open\n",
    "    'department', \n",
    "    'job_series_str', 'job_series_title', # job series title: the title of the occupation\n",
    "    'grade', 'grade_highest', 'grade_lowest', # grade: the pay grade of the job\n",
    "    'pay_plan',\n",
    "    'appointment_type',\n",
    "    'total_applications', \n",
    "    'stem', 'health', # binary columns\n",
    "    'remote_work_available', 'telework_available', 'location_flexibility',\n",
    "    'bls_occ_avg_jobs1000', # average number of jobs per 1000 jobs for a given occupation\n",
    "    'bls_occ_avg_locquot', # average location quotient for a given occupation: LQ is a measure that indicates how concentrated a particular industry or occupation is in a region compared to the national average.\n",
    "    'bls_occ_mean_hmean', # hourly mean wage\n",
    "    'bls_occ_mean_amean' # annual mean wage\n",
    "]\n",
    "\n",
    "# Create a new DataFrame with only the specified columns\n",
    "df_selected = df[columns_to_keep]\n",
    "print(df_selected.shape)\n"
   ]
  },
  {
   "cell_type": "code",
   "execution_count": 52,
   "metadata": {},
   "outputs": [
    {
     "data": {
      "text/html": [
       "<div>\n",
       "<style scoped>\n",
       "    .dataframe tbody tr th:only-of-type {\n",
       "        vertical-align: middle;\n",
       "    }\n",
       "\n",
       "    .dataframe tbody tr th {\n",
       "        vertical-align: top;\n",
       "    }\n",
       "\n",
       "    .dataframe thead th {\n",
       "        text-align: right;\n",
       "    }\n",
       "</style>\n",
       "<table border=\"1\" class=\"dataframe\">\n",
       "  <thead>\n",
       "    <tr style=\"text-align: right;\">\n",
       "      <th></th>\n",
       "      <th>posting_length</th>\n",
       "      <th>department</th>\n",
       "      <th>job_series_str</th>\n",
       "      <th>job_series_title</th>\n",
       "      <th>grade</th>\n",
       "      <th>grade_highest</th>\n",
       "      <th>grade_lowest</th>\n",
       "      <th>pay_plan</th>\n",
       "      <th>appointment_type</th>\n",
       "      <th>total_applications</th>\n",
       "      <th>stem</th>\n",
       "      <th>health</th>\n",
       "      <th>remote_work_available</th>\n",
       "      <th>telework_available</th>\n",
       "      <th>location_flexibility</th>\n",
       "      <th>bls_occ_avg_jobs1000</th>\n",
       "      <th>bls_occ_avg_locquot</th>\n",
       "      <th>bls_occ_mean_hmean</th>\n",
       "      <th>bls_occ_mean_amean</th>\n",
       "    </tr>\n",
       "  </thead>\n",
       "  <tbody>\n",
       "    <tr>\n",
       "      <th>1156454</th>\n",
       "      <td>7.0</td>\n",
       "      <td>Department of Defense</td>\n",
       "      <td>'0301</td>\n",
       "      <td>Miscellaneous Administration And Program</td>\n",
       "      <td>'09/11</td>\n",
       "      <td>11.0</td>\n",
       "      <td>9.0</td>\n",
       "      <td>GS</td>\n",
       "      <td>Permanent</td>\n",
       "      <td>66.0</td>\n",
       "      <td>0.0</td>\n",
       "      <td>0.0</td>\n",
       "      <td>0.0</td>\n",
       "      <td>0.0</td>\n",
       "      <td>NaN</td>\n",
       "      <td>132.74600</td>\n",
       "      <td>1.02</td>\n",
       "      <td>20.66</td>\n",
       "      <td>42970.0</td>\n",
       "    </tr>\n",
       "    <tr>\n",
       "      <th>288082</th>\n",
       "      <td>13.0</td>\n",
       "      <td>Department of Defense</td>\n",
       "      <td>'0301</td>\n",
       "      <td>Miscellaneous Administration And Program</td>\n",
       "      <td>'09</td>\n",
       "      <td>9.0</td>\n",
       "      <td>9.0</td>\n",
       "      <td>GS</td>\n",
       "      <td>NaN</td>\n",
       "      <td>13.0</td>\n",
       "      <td>0.0</td>\n",
       "      <td>0.0</td>\n",
       "      <td>0.0</td>\n",
       "      <td>0.0</td>\n",
       "      <td>NaN</td>\n",
       "      <td>135.66901</td>\n",
       "      <td>0.90</td>\n",
       "      <td>20.90</td>\n",
       "      <td>43470.0</td>\n",
       "    </tr>\n",
       "  </tbody>\n",
       "</table>\n",
       "</div>"
      ],
      "text/plain": [
       "         posting_length             department job_series_str  \\\n",
       "1156454             7.0  Department of Defense          '0301   \n",
       "288082             13.0  Department of Defense          '0301   \n",
       "\n",
       "                                 job_series_title   grade  grade_highest  \\\n",
       "1156454  Miscellaneous Administration And Program  '09/11           11.0   \n",
       "288082   Miscellaneous Administration And Program     '09            9.0   \n",
       "\n",
       "         grade_lowest pay_plan appointment_type  total_applications  stem  \\\n",
       "1156454           9.0       GS        Permanent                66.0   0.0   \n",
       "288082            9.0       GS              NaN                13.0   0.0   \n",
       "\n",
       "         health  remote_work_available  telework_available  \\\n",
       "1156454     0.0                    0.0                 0.0   \n",
       "288082      0.0                    0.0                 0.0   \n",
       "\n",
       "         location_flexibility  bls_occ_avg_jobs1000  bls_occ_avg_locquot  \\\n",
       "1156454                   NaN             132.74600                 1.02   \n",
       "288082                    NaN             135.66901                 0.90   \n",
       "\n",
       "         bls_occ_mean_hmean  bls_occ_mean_amean  \n",
       "1156454               20.66             42970.0  \n",
       "288082                20.90             43470.0  "
      ]
     },
     "execution_count": 52,
     "metadata": {},
     "output_type": "execute_result"
    }
   ],
   "source": [
    "df_selected.sample(2)"
   ]
  },
  {
   "cell_type": "markdown",
   "metadata": {},
   "source": [
    "#### Drop rows with Nan value of dependent variable"
   ]
  },
  {
   "cell_type": "code",
   "execution_count": 53,
   "metadata": {},
   "outputs": [
    {
     "name": "stdout",
     "output_type": "stream",
     "text": [
      "Number of rows dropped: 362\n",
      "(2329297, 19)\n"
     ]
    }
   ],
   "source": [
    "\n",
    "# Drop Nan rows and print the number of dropped rows in one line\n",
    "print(f\"Number of rows dropped: {df_selected.shape[0] - df_selected.dropna(subset=['posting_length']).shape[0]}\")\n",
    "\n",
    "df_selected = df_selected.dropna(subset=['posting_length'])\n",
    "\n",
    "# Transfer posting_length to int type\n",
    "df_selected['posting_length'] = df_selected['posting_length'].astype(int)\n",
    "\n",
    "# Print the shape of the resulting DataFrame\n",
    "print(df_selected.shape)\n"
   ]
  },
  {
   "cell_type": "markdown",
   "metadata": {},
   "source": [
    "#### Dummy pay_plan to GS==1 or non-GS==0"
   ]
  },
  {
   "cell_type": "code",
   "execution_count": 54,
   "metadata": {},
   "outputs": [
    {
     "name": "stdout",
     "output_type": "stream",
     "text": [
      "pay_plan\n",
      "GS    1971789\n",
      "VN      81769\n",
      "IR      54705\n",
      "GG      36066\n",
      "NH      27791\n",
      "       ...   \n",
      "CG          1\n",
      "FT          1\n",
      "EF          1\n",
      "EJ          1\n",
      "IT          1\n",
      "Name: count, Length: 96, dtype: int64\n"
     ]
    }
   ],
   "source": [
    "# value count for pay_plan\n",
    "print(df_selected['pay_plan'].value_counts())"
   ]
  },
  {
   "cell_type": "code",
   "execution_count": 55,
   "metadata": {},
   "outputs": [
    {
     "name": "stdout",
     "output_type": "stream",
     "text": [
      "pay_plan_GS_dummy\n",
      "1    1971789\n",
      "0     357508\n",
      "Name: count, dtype: int64\n"
     ]
    }
   ],
   "source": [
    "# Dummy pay_plan to GS==1 or non-GS==0\n",
    "df_selected['pay_plan_GS_dummy'] = df_selected['pay_plan'].apply(lambda x: 1 if x == 'GS' else 0)\n",
    "print(df_selected['pay_plan_GS_dummy'].value_counts())"
   ]
  },
  {
   "cell_type": "code",
   "execution_count": 56,
   "metadata": {},
   "outputs": [
    {
     "data": {
      "text/html": [
       "<div>\n",
       "<style scoped>\n",
       "    .dataframe tbody tr th:only-of-type {\n",
       "        vertical-align: middle;\n",
       "    }\n",
       "\n",
       "    .dataframe tbody tr th {\n",
       "        vertical-align: top;\n",
       "    }\n",
       "\n",
       "    .dataframe thead th {\n",
       "        text-align: right;\n",
       "    }\n",
       "</style>\n",
       "<table border=\"1\" class=\"dataframe\">\n",
       "  <thead>\n",
       "    <tr style=\"text-align: right;\">\n",
       "      <th></th>\n",
       "      <th>posting_length</th>\n",
       "      <th>department</th>\n",
       "      <th>job_series_str</th>\n",
       "      <th>job_series_title</th>\n",
       "      <th>grade</th>\n",
       "      <th>grade_highest</th>\n",
       "      <th>grade_lowest</th>\n",
       "      <th>pay_plan</th>\n",
       "      <th>appointment_type</th>\n",
       "      <th>total_applications</th>\n",
       "      <th>stem</th>\n",
       "      <th>health</th>\n",
       "      <th>remote_work_available</th>\n",
       "      <th>telework_available</th>\n",
       "      <th>location_flexibility</th>\n",
       "      <th>bls_occ_avg_jobs1000</th>\n",
       "      <th>bls_occ_avg_locquot</th>\n",
       "      <th>bls_occ_mean_hmean</th>\n",
       "      <th>bls_occ_mean_amean</th>\n",
       "      <th>pay_plan_GS_dummy</th>\n",
       "    </tr>\n",
       "  </thead>\n",
       "  <tbody>\n",
       "    <tr>\n",
       "      <th>1259544</th>\n",
       "      <td>7</td>\n",
       "      <td>Department of Agriculture</td>\n",
       "      <td>'1105</td>\n",
       "      <td>Purchasing</td>\n",
       "      <td>'05/06/07</td>\n",
       "      <td>7.0</td>\n",
       "      <td>5.0</td>\n",
       "      <td>GS</td>\n",
       "      <td>Permanent</td>\n",
       "      <td>127.0</td>\n",
       "      <td>0.0</td>\n",
       "      <td>0.0</td>\n",
       "      <td>0.0</td>\n",
       "      <td>0.0</td>\n",
       "      <td>1.0</td>\n",
       "      <td>NaN</td>\n",
       "      <td>NaN</td>\n",
       "      <td>NaN</td>\n",
       "      <td>NaN</td>\n",
       "      <td>1</td>\n",
       "    </tr>\n",
       "    <tr>\n",
       "      <th>579865</th>\n",
       "      <td>5</td>\n",
       "      <td>Department of Defense</td>\n",
       "      <td>'0679</td>\n",
       "      <td>Medical Support Assistance</td>\n",
       "      <td>'05</td>\n",
       "      <td>5.0</td>\n",
       "      <td>5.0</td>\n",
       "      <td>GS</td>\n",
       "      <td>Permanent</td>\n",
       "      <td>73.0</td>\n",
       "      <td>0.0</td>\n",
       "      <td>1.0</td>\n",
       "      <td>0.0</td>\n",
       "      <td>0.0</td>\n",
       "      <td>NaN</td>\n",
       "      <td>35.289665</td>\n",
       "      <td>0.91</td>\n",
       "      <td>26.336666</td>\n",
       "      <td>54776.668</td>\n",
       "      <td>1</td>\n",
       "    </tr>\n",
       "  </tbody>\n",
       "</table>\n",
       "</div>"
      ],
      "text/plain": [
       "         posting_length                 department job_series_str  \\\n",
       "1259544               7  Department of Agriculture          '1105   \n",
       "579865                5      Department of Defense          '0679   \n",
       "\n",
       "                   job_series_title      grade  grade_highest  grade_lowest  \\\n",
       "1259544                  Purchasing  '05/06/07            7.0           5.0   \n",
       "579865   Medical Support Assistance        '05            5.0           5.0   \n",
       "\n",
       "        pay_plan appointment_type  total_applications  stem  health  \\\n",
       "1259544       GS        Permanent               127.0   0.0     0.0   \n",
       "579865        GS        Permanent                73.0   0.0     1.0   \n",
       "\n",
       "         remote_work_available  telework_available  location_flexibility  \\\n",
       "1259544                    0.0                 0.0                   1.0   \n",
       "579865                     0.0                 0.0                   NaN   \n",
       "\n",
       "         bls_occ_avg_jobs1000  bls_occ_avg_locquot  bls_occ_mean_hmean  \\\n",
       "1259544                   NaN                  NaN                 NaN   \n",
       "579865              35.289665                 0.91           26.336666   \n",
       "\n",
       "         bls_occ_mean_amean  pay_plan_GS_dummy  \n",
       "1259544                 NaN                  1  \n",
       "579865            54776.668                  1  "
      ]
     },
     "execution_count": 56,
     "metadata": {},
     "output_type": "execute_result"
    }
   ],
   "source": [
    "df_selected.sample(2)"
   ]
  },
  {
   "cell_type": "markdown",
   "metadata": {},
   "source": [
    "#### Dummy appointment_type Permanent Vs. Non-permanant"
   ]
  },
  {
   "cell_type": "code",
   "execution_count": 57,
   "metadata": {},
   "outputs": [
    {
     "data": {
      "text/plain": [
       "appointment_type\n",
       "Permanent                     1961383\n",
       "Multiple Appointment Types      65934\n",
       "Term                            52239\n",
       "Intermittent                     6853\n",
       "Seasonal                         3031\n",
       "Agency Employees Only             576\n",
       "Term appt, NTE 4 yrs              284\n",
       "Term appt, NTE 13 mos             278\n",
       "Term appt, NTE 2 yrs              270\n",
       "Agency employees only             115\n",
       "Term appt, NTE 3 yrs               14\n",
       "Term appt, NTE 5 yrs                1\n",
       "Name: count, dtype: int64"
      ]
     },
     "execution_count": 57,
     "metadata": {},
     "output_type": "execute_result"
    }
   ],
   "source": [
    "# count the appointment_type values\n",
    "df_selected['appointment_type'].value_counts()\n",
    "### suggestion: permenant or not-permenant"
   ]
  },
  {
   "cell_type": "code",
   "execution_count": 58,
   "metadata": {},
   "outputs": [
    {
     "data": {
      "text/plain": [
       "appointment_type_Permanent_dummy\n",
       "1    1961383\n",
       "0     367914\n",
       "Name: count, dtype: int64"
      ]
     },
     "execution_count": 58,
     "metadata": {},
     "output_type": "execute_result"
    }
   ],
   "source": [
    "# dummy appointment_type Permanent == 1 Vs. others == 0\n",
    "df_selected['appointment_type_Permanent_dummy'] = df_selected['appointment_type'].apply(lambda x: 1 if x == 'Permanent' else 0)\n",
    "df_selected['appointment_type_Permanent_dummy'].value_counts()"
   ]
  },
  {
   "cell_type": "markdown",
   "metadata": {},
   "source": [
    "#### Convert to INT, remote_work_available"
   ]
  },
  {
   "cell_type": "code",
   "execution_count": 59,
   "metadata": {},
   "outputs": [
    {
     "data": {
      "text/plain": [
       "remote_work_available\n",
       "0    2307879\n",
       "1      21418\n",
       "Name: count, dtype: int64"
      ]
     },
     "execution_count": 59,
     "metadata": {},
     "output_type": "execute_result"
    }
   ],
   "source": [
    "# change remote_work_available to int\n",
    "df_selected['remote_work_available'] = df_selected['remote_work_available'].astype(int)\n",
    "\n",
    "# count remote_work_available values\n",
    "df_selected['remote_work_available'].value_counts()"
   ]
  },
  {
   "cell_type": "markdown",
   "metadata": {},
   "source": [
    "#### telework_available - Dropped"
   ]
  },
  {
   "cell_type": "code",
   "execution_count": 60,
   "metadata": {},
   "outputs": [],
   "source": [
    "# count telework_available values\n",
    "df_selected['telework_available'].value_counts() # drop it, as most of them are not telework available\n",
    "# drop telework_available\n",
    "df_selected = df_selected.drop(columns=['telework_available'])"
   ]
  },
  {
   "cell_type": "markdown",
   "metadata": {},
   "source": [
    "#### location_flexibitliy - dropped"
   ]
  },
  {
   "cell_type": "code",
   "execution_count": 61,
   "metadata": {},
   "outputs": [
    {
     "name": "stdout",
     "output_type": "stream",
     "text": [
      "location_flexibility\n",
      "1.0    46689\n",
      "Name: count, dtype: int64\n",
      "2282608\n"
     ]
    }
   ],
   "source": [
    "# location_flexibility\n",
    "print(df_selected['location_flexibility'].value_counts())\n",
    "\n",
    "# print NA values for location_flexibility\n",
    "print(df_selected['location_flexibility'].isna().sum())\n",
    "\n",
    "# drop location_flexibility, as it has too many NA values\n",
    "df_selected = df_selected.drop(columns=['location_flexibility'])"
   ]
  },
  {
   "cell_type": "markdown",
   "metadata": {},
   "source": [
    "#### Convert STEM and Health to INT type\n"
   ]
  },
  {
   "cell_type": "code",
   "execution_count": 62,
   "metadata": {},
   "outputs": [],
   "source": [
    "#### Convert STEM and Health from float to integer type\n",
    "df_selected['stem'] = df_selected['stem'].astype(int)\n",
    "df_selected['health'] = df_selected['health'].astype(int)"
   ]
  },
  {
   "cell_type": "markdown",
   "metadata": {},
   "source": [
    "#### total_applications"
   ]
  },
  {
   "cell_type": "code",
   "execution_count": 63,
   "metadata": {},
   "outputs": [
    {
     "name": "stdout",
     "output_type": "stream",
     "text": [
      "NA values total_applications: 4906\n"
     ]
    }
   ],
   "source": [
    "# check how many NA values in total_applications\n",
    "print(\"NA values total_applications:\", df_selected['total_applications'].isna().sum())\n",
    "\n",
    "# drop NA values in total_applications\n",
    "df_selected = df_selected.dropna(subset=['total_applications'])\n",
    "\n",
    "# convert total_applications to int\n",
    "df_selected['total_applications'] = df_selected['total_applications'].astype(int)"
   ]
  },
  {
   "cell_type": "markdown",
   "metadata": {},
   "source": [
    "#### BLS variables - Drop NA values\n"
   ]
  },
  {
   "cell_type": "code",
   "execution_count": 64,
   "metadata": {},
   "outputs": [
    {
     "name": "stdout",
     "output_type": "stream",
     "text": [
      "Number of rows dropped: 372051\n",
      "372017\n",
      "372017\n",
      "372051\n",
      "372051\n",
      "(1952340, 19)\n"
     ]
    }
   ],
   "source": [
    "# print dropped rows:\n",
    "print(f\"Number of rows dropped: {df_selected.shape[0] - df_selected.dropna(subset=['bls_occ_avg_jobs1000', 'bls_occ_avg_locquot', 'bls_occ_mean_hmean', 'bls_occ_mean_amean']).shape[0]}\")\n",
    "\n",
    "\n",
    "# print how many rows has NA values for bls_occ_avg_jobs1000\n",
    "print(df_selected['bls_occ_avg_jobs1000'].isna().sum())\n",
    "# print how many rows has NA values for bls_occ_avg_locquot\n",
    "print(df_selected['bls_occ_avg_locquot'].isna().sum())\n",
    "# print how many rows has NA values for bls_occ_mean_hmean\n",
    "print(df_selected['bls_occ_mean_hmean'].isna().sum())\n",
    "# print how many rows has NA values for bls_occ_mean_amean\n",
    "print(df_selected['bls_occ_mean_amean'].isna().sum())\n",
    "\n",
    "\n",
    "# drop rows with NA values for bls_occ_avg_jobs1000, bls_occ_avg_locquot, bls_occ_mean_hmean, bls_occ_mean_amean\n",
    "df_selected = df_selected.dropna(subset=['bls_occ_avg_jobs1000', 'bls_occ_avg_locquot', 'bls_occ_mean_hmean', 'bls_occ_mean_amean'])\n",
    "print(df_selected.shape)"
   ]
  },
  {
   "cell_type": "code",
   "execution_count": 65,
   "metadata": {},
   "outputs": [
    {
     "data": {
      "text/html": [
       "<div>\n",
       "<style scoped>\n",
       "    .dataframe tbody tr th:only-of-type {\n",
       "        vertical-align: middle;\n",
       "    }\n",
       "\n",
       "    .dataframe tbody tr th {\n",
       "        vertical-align: top;\n",
       "    }\n",
       "\n",
       "    .dataframe thead th {\n",
       "        text-align: right;\n",
       "    }\n",
       "</style>\n",
       "<table border=\"1\" class=\"dataframe\">\n",
       "  <thead>\n",
       "    <tr style=\"text-align: right;\">\n",
       "      <th></th>\n",
       "      <th>posting_length</th>\n",
       "      <th>department</th>\n",
       "      <th>job_series_str</th>\n",
       "      <th>job_series_title</th>\n",
       "      <th>grade</th>\n",
       "      <th>grade_highest</th>\n",
       "      <th>grade_lowest</th>\n",
       "      <th>pay_plan</th>\n",
       "      <th>appointment_type</th>\n",
       "      <th>total_applications</th>\n",
       "      <th>stem</th>\n",
       "      <th>health</th>\n",
       "      <th>remote_work_available</th>\n",
       "      <th>bls_occ_avg_jobs1000</th>\n",
       "      <th>bls_occ_avg_locquot</th>\n",
       "      <th>bls_occ_mean_hmean</th>\n",
       "      <th>bls_occ_mean_amean</th>\n",
       "      <th>pay_plan_GS_dummy</th>\n",
       "      <th>appointment_type_Permanent_dummy</th>\n",
       "    </tr>\n",
       "  </thead>\n",
       "  <tbody>\n",
       "    <tr>\n",
       "      <th>133996</th>\n",
       "      <td>14</td>\n",
       "      <td>Department of Veterans Affairs</td>\n",
       "      <td>'0620</td>\n",
       "      <td>Practical Nurse</td>\n",
       "      <td>'03/04/05/06</td>\n",
       "      <td>6.0</td>\n",
       "      <td>3.0</td>\n",
       "      <td>GS</td>\n",
       "      <td>NaN</td>\n",
       "      <td>1</td>\n",
       "      <td>0</td>\n",
       "      <td>1</td>\n",
       "      <td>0</td>\n",
       "      <td>32.207668</td>\n",
       "      <td>0.926667</td>\n",
       "      <td>24.176666</td>\n",
       "      <td>50290.000</td>\n",
       "      <td>1</td>\n",
       "      <td>0</td>\n",
       "    </tr>\n",
       "    <tr>\n",
       "      <th>2022088</th>\n",
       "      <td>275</td>\n",
       "      <td>Department of Agriculture</td>\n",
       "      <td>'1035</td>\n",
       "      <td>Public Affairs</td>\n",
       "      <td>'11/12</td>\n",
       "      <td>12.0</td>\n",
       "      <td>11.0</td>\n",
       "      <td>GS</td>\n",
       "      <td>Permanent</td>\n",
       "      <td>274</td>\n",
       "      <td>0</td>\n",
       "      <td>0</td>\n",
       "      <td>0</td>\n",
       "      <td>2.288057</td>\n",
       "      <td>1.576415</td>\n",
       "      <td>26.868999</td>\n",
       "      <td>75915.617</td>\n",
       "      <td>1</td>\n",
       "      <td>1</td>\n",
       "    </tr>\n",
       "  </tbody>\n",
       "</table>\n",
       "</div>"
      ],
      "text/plain": [
       "         posting_length                      department job_series_str  \\\n",
       "133996               14  Department of Veterans Affairs          '0620   \n",
       "2022088             275       Department of Agriculture          '1035   \n",
       "\n",
       "        job_series_title         grade  grade_highest  grade_lowest pay_plan  \\\n",
       "133996   Practical Nurse  '03/04/05/06            6.0           3.0       GS   \n",
       "2022088   Public Affairs        '11/12           12.0          11.0       GS   \n",
       "\n",
       "        appointment_type  total_applications  stem  health  \\\n",
       "133996               NaN                   1     0       1   \n",
       "2022088        Permanent                 274     0       0   \n",
       "\n",
       "         remote_work_available  bls_occ_avg_jobs1000  bls_occ_avg_locquot  \\\n",
       "133996                       0             32.207668             0.926667   \n",
       "2022088                      0              2.288057             1.576415   \n",
       "\n",
       "         bls_occ_mean_hmean  bls_occ_mean_amean  pay_plan_GS_dummy  \\\n",
       "133996            24.176666           50290.000                  1   \n",
       "2022088           26.868999           75915.617                  1   \n",
       "\n",
       "         appointment_type_Permanent_dummy  \n",
       "133996                                  0  \n",
       "2022088                                 1  "
      ]
     },
     "execution_count": 65,
     "metadata": {},
     "output_type": "execute_result"
    }
   ],
   "source": [
    "df_selected.sample(2)"
   ]
  },
  {
   "cell_type": "markdown",
   "metadata": {},
   "source": [
    "#### Grade (pay grade)\n",
    "grade_highest, grade_lowest\n",
    "\n",
    "reference: https://www.law.cornell.edu/uscode/text/5/5104\n",
    "\n",
    "The General Schedule, the symbol for which is “GS”, is the basic pay schedule for positions to which this chapter applies. The General Schedule is divided into grades of difficulty and responsibility of work"
   ]
  },
  {
   "cell_type": "code",
   "execution_count": 66,
   "metadata": {},
   "outputs": [
    {
     "name": "stdout",
     "output_type": "stream",
     "text": [
      "NA values grade: 0\n",
      "NA values grade_highest: 10568\n",
      "NA values grade_lowest: 10568\n",
      "Before drop NA 1952340\n",
      "After: 1941772\n"
     ]
    }
   ],
   "source": [
    "# check how many NA values in grade\n",
    "print(\"NA values grade:\", df_selected['grade'].isna().sum())\n",
    "print(\"NA values grade_highest:\", df_selected['grade_highest'].isna().sum())\n",
    "print(\"NA values grade_lowest:\", df_selected['grade_lowest'].isna().sum())\n",
    "print(\"Before drop NA\" , df_selected.shape[0])\n",
    "\n",
    "# drop columns with NA values for grade_highest, grade_lowest\n",
    "df_selected = df_selected.dropna(subset=['grade_highest', 'grade_lowest'])\n",
    "print(\"After:\", df_selected.shape[0])\n"
   ]
  },
  {
   "cell_type": "code",
   "execution_count": 67,
   "metadata": {},
   "outputs": [
    {
     "name": "stdout",
     "output_type": "stream",
     "text": [
      "Different values for grade_highest and grade_lowest: 483219\n",
      "Percentage of rows that has different values for grade_highest and grade_lowest: 0.24885465440844753\n"
     ]
    }
   ],
   "source": [
    "# check how many rows that has different values for grade_highest and grade_lowest\n",
    "print(\"Different values for grade_highest and grade_lowest:\", df_selected[df_selected['grade_highest'] != df_selected['grade_lowest']].shape[0])\n",
    "# calculate the percentage of rows that has different values for grade_highest and grade_lowest\n",
    "print(\"Percentage of rows that has different values for grade_highest and grade_lowest:\", df_selected[df_selected['grade_highest'] != df_selected['grade_lowest']].shape[0] / df_selected.shape[0])"
   ]
  },
  {
   "cell_type": "code",
   "execution_count": 68,
   "metadata": {},
   "outputs": [],
   "source": [
    "# for the grade columns that has different values for grade_highest and grade_lowest, we will take the average of the two columns, and round up to the nearest integer\n",
    "df_selected['grade_simplified'] = df_selected[['grade_highest', 'grade_lowest']].mean(axis=1).apply(lambda x: round(x))"
   ]
  },
  {
   "cell_type": "markdown",
   "metadata": {},
   "source": [
    "### Organize DataFrame\n",
    "\n",
    "Two CSV files have been created to store the processed data:\n",
    "\n",
    "1. `data_cleaned_with_reference_columns.csv`\n",
    "   - Contains all variables\n",
    "   - Includes backup columns used to generate some of the variables\n",
    "\n",
    "2. `data_cleaned.csv`\n",
    "   - Contains only the variables that will be used for regression models\n",
    "\n",
    "This organization allows for efficient data management and analysis:\n",
    "\n",
    "- The first file (`data_cleaned_with_reference_columns.csv`) serves as a comprehensive dataset, preserving all information including intermediate steps.\n",
    "- The second file (`data_cleaned.csv`) is a streamlined version, optimized for use in regression modeling.\n"
   ]
  },
  {
   "cell_type": "code",
   "execution_count": 69,
   "metadata": {},
   "outputs": [],
   "source": [
    "# set index_column as job_posting_id\n",
    "df_selected['job_posting_id'] = df_selected.index\n",
    "\n",
    "# keep only these columns\n",
    "df_selected = df_selected[[\n",
    "    'job_posting_id',\n",
    "    'posting_length', \n",
    "    'department', 'job_series_title', 'job_series_str', \n",
    "    'grade_simplified', \n",
    "    'pay_plan_GS_dummy', \n",
    "    'appointment_type_Permanent_dummy', \n",
    "    'total_applications', 'stem', 'health', \n",
    "    'remote_work_available', \n",
    "    'bls_occ_avg_jobs1000', 'bls_occ_avg_locquot', 'bls_occ_mean_hmean', 'bls_occ_mean_amean',\n",
    "    \n",
    "    ### These are backup columns, not used in the model:\n",
    "    'pay_plan', # simplified to 'pay_plan_GS_dummy' - 1 if GS, 0 otherwise\n",
    "    'appointment_type', # simplified to 'appointment_type_Permanent_dummy' - 1 if Permanent, 0 otherwise\n",
    "    'grade','grade_highest', 'grade_lowest', # simplified to 'grade_simplified', if different get the average of 'grade_highest' and 'grade_lowest'\n",
    "    ]]"
   ]
  },
  {
   "cell_type": "code",
   "execution_count": 70,
   "metadata": {},
   "outputs": [],
   "source": [
    "# reset_index, rename it to job_posting_id\n",
    "df_selected = df_selected.reset_index(drop=True)"
   ]
  },
  {
   "cell_type": "code",
   "execution_count": 71,
   "metadata": {},
   "outputs": [
    {
     "name": "stdout",
     "output_type": "stream",
     "text": [
      "['job_posting_id', 'posting_length', 'department', 'job_series_title', 'job_series_str', 'grade_simplified', 'pay_plan_GS_dummy', 'appointment_type_Permanent_dummy', 'total_applications', 'stem', 'health', 'remote_work_available', 'bls_occ_avg_jobs1000', 'bls_occ_avg_locquot', 'bls_occ_mean_hmean', 'bls_occ_mean_amean', 'pay_plan', 'appointment_type', 'grade', 'grade_highest', 'grade_lowest']\n"
     ]
    },
    {
     "data": {
      "text/html": [
       "<div>\n",
       "<style scoped>\n",
       "    .dataframe tbody tr th:only-of-type {\n",
       "        vertical-align: middle;\n",
       "    }\n",
       "\n",
       "    .dataframe tbody tr th {\n",
       "        vertical-align: top;\n",
       "    }\n",
       "\n",
       "    .dataframe thead th {\n",
       "        text-align: right;\n",
       "    }\n",
       "</style>\n",
       "<table border=\"1\" class=\"dataframe\">\n",
       "  <thead>\n",
       "    <tr style=\"text-align: right;\">\n",
       "      <th></th>\n",
       "      <th>job_posting_id</th>\n",
       "      <th>posting_length</th>\n",
       "      <th>department</th>\n",
       "      <th>job_series_title</th>\n",
       "      <th>job_series_str</th>\n",
       "      <th>grade_simplified</th>\n",
       "      <th>pay_plan_GS_dummy</th>\n",
       "      <th>appointment_type_Permanent_dummy</th>\n",
       "      <th>total_applications</th>\n",
       "      <th>stem</th>\n",
       "      <th>...</th>\n",
       "      <th>remote_work_available</th>\n",
       "      <th>bls_occ_avg_jobs1000</th>\n",
       "      <th>bls_occ_avg_locquot</th>\n",
       "      <th>bls_occ_mean_hmean</th>\n",
       "      <th>bls_occ_mean_amean</th>\n",
       "      <th>pay_plan</th>\n",
       "      <th>appointment_type</th>\n",
       "      <th>grade</th>\n",
       "      <th>grade_highest</th>\n",
       "      <th>grade_lowest</th>\n",
       "    </tr>\n",
       "  </thead>\n",
       "  <tbody>\n",
       "    <tr>\n",
       "      <th>0</th>\n",
       "      <td>48414</td>\n",
       "      <td>6</td>\n",
       "      <td>Department of Defense</td>\n",
       "      <td>Miscellaneous Clerk And Assistant</td>\n",
       "      <td>'0303</td>\n",
       "      <td>6</td>\n",
       "      <td>1</td>\n",
       "      <td>0</td>\n",
       "      <td>7</td>\n",
       "      <td>0</td>\n",
       "      <td>...</td>\n",
       "      <td>0</td>\n",
       "      <td>144.198</td>\n",
       "      <td>0.96</td>\n",
       "      <td>16.74</td>\n",
       "      <td>34810.0</td>\n",
       "      <td>GS</td>\n",
       "      <td>NaN</td>\n",
       "      <td>'06</td>\n",
       "      <td>6.0</td>\n",
       "      <td>6.0</td>\n",
       "    </tr>\n",
       "    <tr>\n",
       "      <th>1</th>\n",
       "      <td>48415</td>\n",
       "      <td>14</td>\n",
       "      <td>Department of Defense</td>\n",
       "      <td>Miscellaneous Administration And Program</td>\n",
       "      <td>'0301</td>\n",
       "      <td>14</td>\n",
       "      <td>1</td>\n",
       "      <td>0</td>\n",
       "      <td>45</td>\n",
       "      <td>0</td>\n",
       "      <td>...</td>\n",
       "      <td>0</td>\n",
       "      <td>144.198</td>\n",
       "      <td>0.96</td>\n",
       "      <td>16.74</td>\n",
       "      <td>34810.0</td>\n",
       "      <td>GS</td>\n",
       "      <td>Term</td>\n",
       "      <td>'14</td>\n",
       "      <td>14.0</td>\n",
       "      <td>14.0</td>\n",
       "    </tr>\n",
       "  </tbody>\n",
       "</table>\n",
       "<p>2 rows × 21 columns</p>\n",
       "</div>"
      ],
      "text/plain": [
       "   job_posting_id  posting_length             department  \\\n",
       "0           48414               6  Department of Defense   \n",
       "1           48415              14  Department of Defense   \n",
       "\n",
       "                           job_series_title job_series_str  grade_simplified  \\\n",
       "0         Miscellaneous Clerk And Assistant          '0303                 6   \n",
       "1  Miscellaneous Administration And Program          '0301                14   \n",
       "\n",
       "   pay_plan_GS_dummy  appointment_type_Permanent_dummy  total_applications  \\\n",
       "0                  1                                 0                   7   \n",
       "1                  1                                 0                  45   \n",
       "\n",
       "   stem  ...  remote_work_available  bls_occ_avg_jobs1000  \\\n",
       "0     0  ...                      0               144.198   \n",
       "1     0  ...                      0               144.198   \n",
       "\n",
       "   bls_occ_avg_locquot  bls_occ_mean_hmean  bls_occ_mean_amean  pay_plan  \\\n",
       "0                 0.96               16.74             34810.0        GS   \n",
       "1                 0.96               16.74             34810.0        GS   \n",
       "\n",
       "  appointment_type grade grade_highest  grade_lowest  \n",
       "0              NaN   '06           6.0           6.0  \n",
       "1             Term   '14          14.0          14.0  \n",
       "\n",
       "[2 rows x 21 columns]"
      ]
     },
     "execution_count": 71,
     "metadata": {},
     "output_type": "execute_result"
    }
   ],
   "source": [
    "print(df_selected.columns.tolist())\n",
    "df_selected.head(2)"
   ]
  },
  {
   "cell_type": "code",
   "execution_count": 72,
   "metadata": {},
   "outputs": [],
   "source": [
    "df_selected.to_csv('data_cleaned_with_reference_columns.csv', index=False)"
   ]
  },
  {
   "cell_type": "markdown",
   "metadata": {},
   "source": [
    "df_cleaned.csv"
   ]
  },
  {
   "cell_type": "code",
   "execution_count": 73,
   "metadata": {},
   "outputs": [
    {
     "name": "stdout",
     "output_type": "stream",
     "text": [
      "['job_posting_id', 'posting_length', 'department', 'job_series_title', 'job_series_str', 'grade_simplified', 'pay_plan_GS_dummy', 'appointment_type_Permanent_dummy', 'total_applications', 'stem', 'health', 'remote_work_available', 'bls_occ_avg_jobs1000', 'bls_occ_avg_locquot', 'bls_occ_mean_hmean', 'bls_occ_mean_amean']\n"
     ]
    },
    {
     "data": {
      "text/html": [
       "<div>\n",
       "<style scoped>\n",
       "    .dataframe tbody tr th:only-of-type {\n",
       "        vertical-align: middle;\n",
       "    }\n",
       "\n",
       "    .dataframe tbody tr th {\n",
       "        vertical-align: top;\n",
       "    }\n",
       "\n",
       "    .dataframe thead th {\n",
       "        text-align: right;\n",
       "    }\n",
       "</style>\n",
       "<table border=\"1\" class=\"dataframe\">\n",
       "  <thead>\n",
       "    <tr style=\"text-align: right;\">\n",
       "      <th></th>\n",
       "      <th>job_posting_id</th>\n",
       "      <th>posting_length</th>\n",
       "      <th>department</th>\n",
       "      <th>job_series_title</th>\n",
       "      <th>job_series_str</th>\n",
       "      <th>grade_simplified</th>\n",
       "      <th>pay_plan_GS_dummy</th>\n",
       "      <th>appointment_type_Permanent_dummy</th>\n",
       "      <th>total_applications</th>\n",
       "      <th>stem</th>\n",
       "      <th>health</th>\n",
       "      <th>remote_work_available</th>\n",
       "      <th>bls_occ_avg_jobs1000</th>\n",
       "      <th>bls_occ_avg_locquot</th>\n",
       "      <th>bls_occ_mean_hmean</th>\n",
       "      <th>bls_occ_mean_amean</th>\n",
       "    </tr>\n",
       "  </thead>\n",
       "  <tbody>\n",
       "    <tr>\n",
       "      <th>0</th>\n",
       "      <td>48414</td>\n",
       "      <td>6</td>\n",
       "      <td>Department of Defense</td>\n",
       "      <td>Miscellaneous Clerk And Assistant</td>\n",
       "      <td>'0303</td>\n",
       "      <td>6</td>\n",
       "      <td>1</td>\n",
       "      <td>0</td>\n",
       "      <td>7</td>\n",
       "      <td>0</td>\n",
       "      <td>0</td>\n",
       "      <td>0</td>\n",
       "      <td>144.198</td>\n",
       "      <td>0.96</td>\n",
       "      <td>16.74</td>\n",
       "      <td>34810.0</td>\n",
       "    </tr>\n",
       "    <tr>\n",
       "      <th>1</th>\n",
       "      <td>48415</td>\n",
       "      <td>14</td>\n",
       "      <td>Department of Defense</td>\n",
       "      <td>Miscellaneous Administration And Program</td>\n",
       "      <td>'0301</td>\n",
       "      <td>14</td>\n",
       "      <td>1</td>\n",
       "      <td>0</td>\n",
       "      <td>45</td>\n",
       "      <td>0</td>\n",
       "      <td>0</td>\n",
       "      <td>0</td>\n",
       "      <td>144.198</td>\n",
       "      <td>0.96</td>\n",
       "      <td>16.74</td>\n",
       "      <td>34810.0</td>\n",
       "    </tr>\n",
       "  </tbody>\n",
       "</table>\n",
       "</div>"
      ],
      "text/plain": [
       "   job_posting_id  posting_length             department  \\\n",
       "0           48414               6  Department of Defense   \n",
       "1           48415              14  Department of Defense   \n",
       "\n",
       "                           job_series_title job_series_str  grade_simplified  \\\n",
       "0         Miscellaneous Clerk And Assistant          '0303                 6   \n",
       "1  Miscellaneous Administration And Program          '0301                14   \n",
       "\n",
       "   pay_plan_GS_dummy  appointment_type_Permanent_dummy  total_applications  \\\n",
       "0                  1                                 0                   7   \n",
       "1                  1                                 0                  45   \n",
       "\n",
       "   stem  health  remote_work_available  bls_occ_avg_jobs1000  \\\n",
       "0     0       0                      0               144.198   \n",
       "1     0       0                      0               144.198   \n",
       "\n",
       "   bls_occ_avg_locquot  bls_occ_mean_hmean  bls_occ_mean_amean  \n",
       "0                 0.96               16.74             34810.0  \n",
       "1                 0.96               16.74             34810.0  "
      ]
     },
     "execution_count": 73,
     "metadata": {},
     "output_type": "execute_result"
    }
   ],
   "source": [
    "df_cleaned = df_selected[[\n",
    "    'job_posting_id',\n",
    "    'posting_length', \n",
    "    'department', 'job_series_title', 'job_series_str', \n",
    "    'grade_simplified', \n",
    "    'pay_plan_GS_dummy', \n",
    "    'appointment_type_Permanent_dummy', \n",
    "    'total_applications', 'stem', 'health', \n",
    "    'remote_work_available', \n",
    "    'bls_occ_avg_jobs1000', 'bls_occ_avg_locquot', 'bls_occ_mean_hmean', 'bls_occ_mean_amean'\n",
    "]]\n",
    "\n",
    "print(df_cleaned.columns.tolist())\n",
    "df_cleaned.head(2)"
   ]
  },
  {
   "cell_type": "code",
   "execution_count": 75,
   "metadata": {},
   "outputs": [
    {
     "name": "stdout",
     "output_type": "stream",
     "text": [
      "job_posting_id                      0\n",
      "posting_length                      0\n",
      "department                          0\n",
      "job_series_title                    0\n",
      "job_series_str                      0\n",
      "grade_simplified                    0\n",
      "pay_plan_GS_dummy                   0\n",
      "appointment_type_Permanent_dummy    0\n",
      "total_applications                  0\n",
      "stem                                0\n",
      "health                              0\n",
      "remote_work_available               0\n",
      "bls_occ_avg_jobs1000                0\n",
      "bls_occ_avg_locquot                 0\n",
      "bls_occ_mean_hmean                  0\n",
      "bls_occ_mean_amean                  0\n",
      "dtype: int64\n"
     ]
    }
   ],
   "source": [
    "# check if there are any NA values in the cleaned DataFrame\n",
    "print(df_cleaned.isna().sum())"
   ]
  },
  {
   "cell_type": "code",
   "execution_count": 77,
   "metadata": {},
   "outputs": [
    {
     "name": "stdout",
     "output_type": "stream",
     "text": [
      "<class 'pandas.core.frame.DataFrame'>\n",
      "RangeIndex: 1941772 entries, 0 to 1941771\n",
      "Data columns (total 16 columns):\n",
      " #   Column                            Dtype  \n",
      "---  ------                            -----  \n",
      " 0   job_posting_id                    int64  \n",
      " 1   posting_length                    int64  \n",
      " 2   department                        object \n",
      " 3   job_series_title                  object \n",
      " 4   job_series_str                    object \n",
      " 5   grade_simplified                  int64  \n",
      " 6   pay_plan_GS_dummy                 int64  \n",
      " 7   appointment_type_Permanent_dummy  int64  \n",
      " 8   total_applications                int64  \n",
      " 9   stem                              int64  \n",
      " 10  health                            int64  \n",
      " 11  remote_work_available             int64  \n",
      " 12  bls_occ_avg_jobs1000              float64\n",
      " 13  bls_occ_avg_locquot               float64\n",
      " 14  bls_occ_mean_hmean                float64\n",
      " 15  bls_occ_mean_amean                float64\n",
      "dtypes: float64(4), int64(9), object(3)\n",
      "memory usage: 237.0+ MB\n"
     ]
    }
   ],
   "source": [
    "df_cleaned.info()"
   ]
  },
  {
   "cell_type": "code",
   "execution_count": 78,
   "metadata": {},
   "outputs": [],
   "source": [
    "df_cleaned.to_csv('data_cleaned.csv', index=False)"
   ]
  }
 ],
 "metadata": {
  "kernelspec": {
   "display_name": "clearai",
   "language": "python",
   "name": "python3"
  },
  "language_info": {
   "codemirror_mode": {
    "name": "ipython",
    "version": 3
   },
   "file_extension": ".py",
   "mimetype": "text/x-python",
   "name": "python",
   "nbconvert_exporter": "python",
   "pygments_lexer": "ipython3",
   "version": "3.12.3"
  }
 },
 "nbformat": 4,
 "nbformat_minor": 2
}
